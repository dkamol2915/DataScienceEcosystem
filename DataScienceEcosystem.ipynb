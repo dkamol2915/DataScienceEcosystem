{
 "cells": [
  {
   "cell_type": "markdown",
   "id": "03dea784-cd1a-4cec-ae51-8c60fb9dac4e",
   "metadata": {},
   "source": [
    "Data Science Tools and Ecosystem"
   ]
  },
  {
   "cell_type": "markdown",
   "id": "756f9fd4-fca9-4240-a10d-66ec08e4e071",
   "metadata": {},
   "source": [
    "In this notebook, Data Science Tools and Ecosystem are summarized."
   ]
  },
  {
   "cell_type": "markdown",
   "id": "47e295ed-ec96-45f2-9cab-60765415a815",
   "metadata": {},
   "source": [
    "Some of the popular languages that Data Scientists use are:\n",
    "1) Python\n",
    "2) R \n",
    "3) Scala\n",
    "4) Java\n",
    "5) Julia\n",
    "6) Matlab"
   ]
  },
  {
   "cell_type": "markdown",
   "id": "6e12145a-3436-4fd9-a314-8a299df078e7",
   "metadata": {},
   "source": [
    "Some of the commonly used libraries used by Data Scientists include:\n",
    "1) Pandas\n",
    "2) Numpy\n",
    "3) Seaborn\n",
    "4) Matplotlib\n",
    "5) ggplot\n",
    "6) Scikit learn\n",
    "\n"
   ]
  },
  {
   "cell_type": "markdown",
   "id": "285baafd-0b47-4447-9dc7-d1677ee13c79",
   "metadata": {},
   "source": [
    "|Data Science Tools  |\n",
    "|----------|\n",
    "| Anaconda |\n",
    "| Google Colab | \n",
    "| Jupyter lab | \n"
   ]
  },
  {
   "cell_type": "markdown",
   "id": "268cf464-bd13-4a36-a107-ba1decb933f6",
   "metadata": {},
   "source": [
    "Below are a few examples of evaluating arithmetic expressions in Python.\n"
   ]
  },
  {
   "cell_type": "code",
   "execution_count": 4,
   "id": "74385a06-f78b-444d-bee0-ea955d0fc426",
   "metadata": {
    "tags": []
   },
   "outputs": [
    {
     "name": "stdout",
     "output_type": "stream",
     "text": [
      "30\n",
      "200\n",
      "10\n",
      "2.0\n"
     ]
    }
   ],
   "source": [
    "a = 10\n",
    "b = 20\n",
    "c = a+b\n",
    "d = a*b\n",
    "e = b-a\n",
    "f = b/a\n",
    "print(c)\n",
    "print(d)\n",
    "print(e)\n",
    "print(f)"
   ]
  },
  {
   "cell_type": "code",
   "execution_count": 6,
   "id": "b90ba43f-89f4-4ef0-8e2f-7dc731301b1d",
   "metadata": {
    "tags": []
   },
   "outputs": [
    {
     "data": {
      "text/plain": [
       "17"
      ]
     },
     "execution_count": 6,
     "metadata": {},
     "output_type": "execute_result"
    }
   ],
   "source": [
    "# This a simple arithmetic expression to mutiply then add integer\n",
    "\n",
    "(3*4)+5"
   ]
  },
  {
   "cell_type": "code",
   "execution_count": 7,
   "id": "30a55c8a-a3eb-497f-89e0-4fb190249057",
   "metadata": {
    "tags": []
   },
   "outputs": [
    {
     "name": "stdout",
     "output_type": "stream",
     "text": [
      "200 minutes is equal to 3.3333333333333335 hours\n"
     ]
    }
   ],
   "source": [
    "# This will convert 200 minutes to hours by diving by 60\n",
    "minutes = 200\n",
    "\n",
    "hours = minutes/60\n",
    "\n",
    "print(f\"{minutes} minutes is equal to {hours} hours\")"
   ]
  },
  {
   "cell_type": "markdown",
   "id": "63c173a8-2dd8-4afc-895c-75ad1a9dd93e",
   "metadata": {},
   "source": [
    " Objectives\n",
    " \n",
    "\n",
    "* List popular languages for Data Science\n",
    "* List popular libraries for Data Science\n",
    "* List of popular Data Science Tools\n",
    "* Understanding of Arithmetic Operations\n",
    "* Understanding the importance and working structure of different libraries in Data Science"
   ]
  },
  {
   "cell_type": "raw",
   "id": "d0524847-5b87-48b4-9e7a-7f2f891f6df9",
   "metadata": {},
   "source": [
    "Author\n",
    "Amol Deshmukh"
   ]
  },
  {
   "cell_type": "code",
   "execution_count": null,
   "id": "75983915-dc4c-4b56-a26c-e0e15913b28b",
   "metadata": {},
   "outputs": [],
   "source": []
  }
 ],
 "metadata": {
  "kernelspec": {
   "display_name": "Python",
   "language": "python",
   "name": "conda-env-python-py"
  },
  "language_info": {
   "codemirror_mode": {
    "name": "ipython",
    "version": 3
   },
   "file_extension": ".py",
   "mimetype": "text/x-python",
   "name": "python",
   "nbconvert_exporter": "python",
   "pygments_lexer": "ipython3",
   "version": "3.7.12"
  },
  "toc-autonumbering": true,
  "toc-showcode": true,
  "toc-showmarkdowntxt": true,
  "toc-showtags": false
 },
 "nbformat": 4,
 "nbformat_minor": 5
}
